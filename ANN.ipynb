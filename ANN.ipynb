{
  "nbformat": 4,
  "nbformat_minor": 0,
  "metadata": {
    "colab": {
      "provenance": [],
      "include_colab_link": true
    },
    "kernelspec": {
      "name": "python3",
      "display_name": "Python 3"
    },
    "language_info": {
      "name": "python"
    }
  },
  "cells": [
    {
      "cell_type": "markdown",
      "metadata": {
        "id": "view-in-github",
        "colab_type": "text"
      },
      "source": [
        "<a href=\"https://colab.research.google.com/github/varuny09/ml-lab-work/blob/main/ANN.ipynb\" target=\"_parent\"><img src=\"https://colab.research.google.com/assets/colab-badge.svg\" alt=\"Open In Colab\"/></a>"
      ]
    },
    {
      "cell_type": "markdown",
      "source": [
        "Loading the MNIST dataset in Keras"
      ],
      "metadata": {
        "id": "4NS6CJbDiCob"
      }
    },
    {
      "cell_type": "code",
      "source": [
        "from keras.datasets import mnist\n",
        "(train_images, train_labels), (test_images, test_labels) = mnist.load_data()\n"
      ],
      "metadata": {
        "id": "S-tVYhz9oJjn"
      },
      "execution_count": null,
      "outputs": []
    },
    {
      "cell_type": "code",
      "source": [
        "train_images.shape\n",
        "len(train_labels)\n",
        "train_labels\n",
        "test_images.shape\n",
        "len(test_labels)\n",
        "test_labels\n"
      ],
      "metadata": {
        "id": "W5lXpBuzoTwx"
      },
      "execution_count": null,
      "outputs": []
    },
    {
      "cell_type": "markdown",
      "source": [
        "The network architecture"
      ],
      "metadata": {
        "id": "lY9QnJc8oW98"
      }
    },
    {
      "cell_type": "code",
      "source": [
        "from keras import models\n",
        "from keras import layers\n",
        "network = models.Sequential()\n",
        "# Dense(32) is a fully-connected layer with 32 hidden units.\n",
        "# in the first layer, you must specify the expected input data shape :\n",
        "# here, 28 X 28=784 -dimensional vectors.\n",
        "network.add(layers.Dense(32, activation='sigmoid', input_shape=(28 * 28, )))\n",
        "network.add(layers.Dense(8, activation='sigmoid'))\n",
        "network.add(layers.Dense(10, activation='softmax'))\n",
        "network.summary()\n",
        "from google.colab import drive\n",
        "drive.mount('/content/drive')\n"
      ],
      "metadata": {
        "colab": {
          "base_uri": "https://localhost:8080/"
        },
        "id": "bDQ0ElvPoZH6",
        "outputId": "f67c8595-6864-4c17-96c3-25dc14f2c4c6"
      },
      "execution_count": null,
      "outputs": [
        {
          "output_type": "stream",
          "name": "stdout",
          "text": [
            "Model: \"sequential\"\n",
            "_________________________________________________________________\n",
            " Layer (type)                Output Shape              Param #   \n",
            "=================================================================\n",
            " dense (Dense)               (None, 32)                25120     \n",
            "                                                                 \n",
            " dense_1 (Dense)             (None, 8)                 264       \n",
            "                                                                 \n",
            " dense_2 (Dense)             (None, 10)                90        \n",
            "                                                                 \n",
            "=================================================================\n",
            "Total params: 25,474\n",
            "Trainable params: 25,474\n",
            "Non-trainable params: 0\n",
            "_________________________________________________________________\n",
            "Mounted at /content/drive\n"
          ]
        }
      ]
    },
    {
      "cell_type": "markdown",
      "source": [
        "The compilation step"
      ],
      "metadata": {
        "id": "U7I7xhQjoeWH"
      }
    },
    {
      "cell_type": "code",
      "source": [
        "network.compile(optimizer='sgd',\n",
        "                loss='categorical_crossentropy',\n",
        "                metrics=['accuracy'])"
      ],
      "metadata": {
        "id": "_AkirVt0oe6B"
      },
      "execution_count": null,
      "outputs": []
    },
    {
      "cell_type": "markdown",
      "source": [
        "Preparing the image data"
      ],
      "metadata": {
        "id": "Frz-vGxWogvz"
      }
    },
    {
      "cell_type": "code",
      "source": [
        "train_images = train_images.reshape((60000, 28 * 28))\n",
        "train_images = train_images.astype('float32') / 255.\n",
        "test_images = test_images.reshape((10000, 28 * 28))\n",
        "test_images = test_images.astype('float32') / 255."
      ],
      "metadata": {
        "id": "0LwIHz42oi7A"
      },
      "execution_count": null,
      "outputs": []
    },
    {
      "cell_type": "markdown",
      "source": [
        "Preparing the labels"
      ],
      "metadata": {
        "id": "xa8dldHFonMc"
      }
    },
    {
      "cell_type": "code",
      "source": [
        "from keras.utils import to_categorical\n",
        "train_labels = to_categorical(train_labels)\n",
        "train_labels\n",
        "test_labels = to_categorical(test_labels)\n",
        "test_labels\n"
      ],
      "metadata": {
        "colab": {
          "base_uri": "https://localhost:8080/"
        },
        "id": "C7cSamqnoprH",
        "outputId": "00c798c2-b205-422e-e421-26322f0d9c42"
      },
      "execution_count": null,
      "outputs": [
        {
          "output_type": "execute_result",
          "data": {
            "text/plain": [
              "array([[0., 0., 0., ..., 1., 0., 0.],\n",
              "       [0., 0., 1., ..., 0., 0., 0.],\n",
              "       [0., 1., 0., ..., 0., 0., 0.],\n",
              "       ...,\n",
              "       [0., 0., 0., ..., 0., 0., 0.],\n",
              "       [0., 0., 0., ..., 0., 0., 0.],\n",
              "       [0., 0., 0., ..., 0., 0., 0.]], dtype=float32)"
            ]
          },
          "metadata": {},
          "execution_count": 8
        }
      ]
    },
    {
      "cell_type": "markdown",
      "source": [
        "Training and Testing"
      ],
      "metadata": {
        "id": "MdyP_vQyossQ"
      }
    },
    {
      "cell_type": "code",
      "source": [
        "network.fit(train_images, train_labels, epochs=160, batch_size=512)"
      ],
      "metadata": {
        "colab": {
          "base_uri": "https://localhost:8080/"
        },
        "id": "xyUWJqXrouuJ",
        "outputId": "9339e56a-a7cb-4c6b-bf3d-919e53fe5c71"
      },
      "execution_count": null,
      "outputs": [
        {
          "output_type": "stream",
          "name": "stdout",
          "text": [
            "Epoch 1/160\n",
            "118/118 [==============================] - 2s 8ms/step - loss: 2.4139 - accuracy: 0.0904\n",
            "Epoch 2/160\n",
            "118/118 [==============================] - 1s 8ms/step - loss: 2.3326 - accuracy: 0.0904\n",
            "Epoch 3/160\n",
            "118/118 [==============================] - 1s 6ms/step - loss: 2.3010 - accuracy: 0.0979\n",
            "Epoch 4/160\n",
            "118/118 [==============================] - 1s 5ms/step - loss: 2.2843 - accuracy: 0.1335\n",
            "Epoch 5/160\n",
            "118/118 [==============================] - 1s 7ms/step - loss: 2.2735 - accuracy: 0.1785\n",
            "Epoch 6/160\n",
            "118/118 [==============================] - 1s 7ms/step - loss: 2.2652 - accuracy: 0.2305\n",
            "Epoch 7/160\n",
            "118/118 [==============================] - 1s 6ms/step - loss: 2.2579 - accuracy: 0.2942\n",
            "Epoch 8/160\n",
            "118/118 [==============================] - 1s 5ms/step - loss: 2.2509 - accuracy: 0.3827\n",
            "Epoch 9/160\n",
            "118/118 [==============================] - 1s 5ms/step - loss: 2.2439 - accuracy: 0.4548\n",
            "Epoch 10/160\n",
            "118/118 [==============================] - 1s 5ms/step - loss: 2.2366 - accuracy: 0.4897\n",
            "Epoch 11/160\n",
            "118/118 [==============================] - 1s 5ms/step - loss: 2.2288 - accuracy: 0.4966\n",
            "Epoch 12/160\n",
            "118/118 [==============================] - 1s 5ms/step - loss: 2.2205 - accuracy: 0.5100\n",
            "Epoch 13/160\n",
            "118/118 [==============================] - 1s 5ms/step - loss: 2.2116 - accuracy: 0.5230\n",
            "Epoch 14/160\n",
            "118/118 [==============================] - 1s 5ms/step - loss: 2.2021 - accuracy: 0.5345\n",
            "Epoch 15/160\n",
            "118/118 [==============================] - 1s 5ms/step - loss: 2.1918 - accuracy: 0.5441\n",
            "Epoch 16/160\n",
            "118/118 [==============================] - 1s 5ms/step - loss: 2.1807 - accuracy: 0.5519\n",
            "Epoch 17/160\n",
            "118/118 [==============================] - 1s 5ms/step - loss: 2.1687 - accuracy: 0.5631\n",
            "Epoch 18/160\n",
            "118/118 [==============================] - 1s 5ms/step - loss: 2.1558 - accuracy: 0.5710\n",
            "Epoch 19/160\n",
            "118/118 [==============================] - 1s 6ms/step - loss: 2.1419 - accuracy: 0.5767\n",
            "Epoch 20/160\n",
            "118/118 [==============================] - 1s 8ms/step - loss: 2.1271 - accuracy: 0.5816\n",
            "Epoch 21/160\n",
            "118/118 [==============================] - 1s 8ms/step - loss: 2.1111 - accuracy: 0.5849\n",
            "Epoch 22/160\n",
            "118/118 [==============================] - 1s 8ms/step - loss: 2.0941 - accuracy: 0.5894\n",
            "Epoch 23/160\n",
            "118/118 [==============================] - 1s 8ms/step - loss: 2.0760 - accuracy: 0.5934\n",
            "Epoch 24/160\n",
            "118/118 [==============================] - 1s 9ms/step - loss: 2.0568 - accuracy: 0.5957\n",
            "Epoch 25/160\n",
            "118/118 [==============================] - 1s 7ms/step - loss: 2.0364 - accuracy: 0.5969\n",
            "Epoch 26/160\n",
            "118/118 [==============================] - 1s 9ms/step - loss: 2.0150 - accuracy: 0.5974\n",
            "Epoch 27/160\n",
            "118/118 [==============================] - 1s 5ms/step - loss: 1.9926 - accuracy: 0.5994\n",
            "Epoch 28/160\n",
            "118/118 [==============================] - 1s 5ms/step - loss: 1.9693 - accuracy: 0.6000\n",
            "Epoch 29/160\n",
            "118/118 [==============================] - 1s 5ms/step - loss: 1.9451 - accuracy: 0.5993\n",
            "Epoch 30/160\n",
            "118/118 [==============================] - 1s 5ms/step - loss: 1.9202 - accuracy: 0.6007\n",
            "Epoch 31/160\n",
            "118/118 [==============================] - 1s 5ms/step - loss: 1.8946 - accuracy: 0.6008\n",
            "Epoch 32/160\n",
            "118/118 [==============================] - 1s 5ms/step - loss: 1.8685 - accuracy: 0.6020\n",
            "Epoch 33/160\n",
            "118/118 [==============================] - 1s 5ms/step - loss: 1.8420 - accuracy: 0.6018\n",
            "Epoch 34/160\n",
            "118/118 [==============================] - 1s 5ms/step - loss: 1.8153 - accuracy: 0.6017\n",
            "Epoch 35/160\n",
            "118/118 [==============================] - 1s 5ms/step - loss: 1.7885 - accuracy: 0.6013\n",
            "Epoch 36/160\n",
            "118/118 [==============================] - 1s 5ms/step - loss: 1.7617 - accuracy: 0.6034\n",
            "Epoch 37/160\n",
            "118/118 [==============================] - 1s 7ms/step - loss: 1.7350 - accuracy: 0.6039\n",
            "Epoch 38/160\n",
            "118/118 [==============================] - 1s 6ms/step - loss: 1.7086 - accuracy: 0.6050\n",
            "Epoch 39/160\n",
            "118/118 [==============================] - 1s 7ms/step - loss: 1.6825 - accuracy: 0.6059\n",
            "Epoch 40/160\n",
            "118/118 [==============================] - 1s 8ms/step - loss: 1.6569 - accuracy: 0.6067\n",
            "Epoch 41/160\n",
            "118/118 [==============================] - 1s 8ms/step - loss: 1.6317 - accuracy: 0.6084\n",
            "Epoch 42/160\n",
            "118/118 [==============================] - 1s 9ms/step - loss: 1.6071 - accuracy: 0.6091\n",
            "Epoch 43/160\n",
            "118/118 [==============================] - 1s 8ms/step - loss: 1.5831 - accuracy: 0.6111\n",
            "Epoch 44/160\n",
            "118/118 [==============================] - 1s 5ms/step - loss: 1.5597 - accuracy: 0.6122\n",
            "Epoch 45/160\n",
            "118/118 [==============================] - 1s 5ms/step - loss: 1.5369 - accuracy: 0.6134\n",
            "Epoch 46/160\n",
            "118/118 [==============================] - 1s 5ms/step - loss: 1.5148 - accuracy: 0.6152\n",
            "Epoch 47/160\n",
            "118/118 [==============================] - 1s 5ms/step - loss: 1.4934 - accuracy: 0.6171\n",
            "Epoch 48/160\n",
            "118/118 [==============================] - 1s 5ms/step - loss: 1.4726 - accuracy: 0.6199\n",
            "Epoch 49/160\n",
            "118/118 [==============================] - 1s 5ms/step - loss: 1.4524 - accuracy: 0.6224\n",
            "Epoch 50/160\n",
            "118/118 [==============================] - 1s 5ms/step - loss: 1.4330 - accuracy: 0.6249\n",
            "Epoch 51/160\n",
            "118/118 [==============================] - 1s 5ms/step - loss: 1.4141 - accuracy: 0.6273\n",
            "Epoch 52/160\n",
            "118/118 [==============================] - 1s 5ms/step - loss: 1.3959 - accuracy: 0.6299\n",
            "Epoch 53/160\n",
            "118/118 [==============================] - 1s 5ms/step - loss: 1.3782 - accuracy: 0.6328\n",
            "Epoch 54/160\n",
            "118/118 [==============================] - 1s 5ms/step - loss: 1.3611 - accuracy: 0.6349\n",
            "Epoch 55/160\n",
            "118/118 [==============================] - 1s 5ms/step - loss: 1.3446 - accuracy: 0.6379\n",
            "Epoch 56/160\n",
            "118/118 [==============================] - 1s 5ms/step - loss: 1.3286 - accuracy: 0.6414\n",
            "Epoch 57/160\n",
            "118/118 [==============================] - 1s 6ms/step - loss: 1.3131 - accuracy: 0.6445\n",
            "Epoch 58/160\n",
            "118/118 [==============================] - 1s 5ms/step - loss: 1.2981 - accuracy: 0.6464\n",
            "Epoch 59/160\n",
            "118/118 [==============================] - 1s 5ms/step - loss: 1.2835 - accuracy: 0.6507\n",
            "Epoch 60/160\n",
            "118/118 [==============================] - 1s 7ms/step - loss: 1.2694 - accuracy: 0.6524\n",
            "Epoch 61/160\n",
            "118/118 [==============================] - 1s 8ms/step - loss: 1.2557 - accuracy: 0.6563\n",
            "Epoch 62/160\n",
            "118/118 [==============================] - 1s 8ms/step - loss: 1.2424 - accuracy: 0.6591\n",
            "Epoch 63/160\n",
            "118/118 [==============================] - 1s 8ms/step - loss: 1.2295 - accuracy: 0.6622\n",
            "Epoch 64/160\n",
            "118/118 [==============================] - 1s 8ms/step - loss: 1.2170 - accuracy: 0.6658\n",
            "Epoch 65/160\n",
            "118/118 [==============================] - 1s 6ms/step - loss: 1.2047 - accuracy: 0.6693\n",
            "Epoch 66/160\n",
            "118/118 [==============================] - 1s 5ms/step - loss: 1.1929 - accuracy: 0.6727\n",
            "Epoch 67/160\n",
            "118/118 [==============================] - 1s 5ms/step - loss: 1.1813 - accuracy: 0.6754\n",
            "Epoch 68/160\n",
            "118/118 [==============================] - 1s 5ms/step - loss: 1.1700 - accuracy: 0.6791\n",
            "Epoch 69/160\n",
            "118/118 [==============================] - 1s 5ms/step - loss: 1.1590 - accuracy: 0.6831\n",
            "Epoch 70/160\n",
            "118/118 [==============================] - 1s 5ms/step - loss: 1.1483 - accuracy: 0.6861\n",
            "Epoch 71/160\n",
            "118/118 [==============================] - 1s 5ms/step - loss: 1.1378 - accuracy: 0.6890\n",
            "Epoch 72/160\n",
            "118/118 [==============================] - 1s 5ms/step - loss: 1.1276 - accuracy: 0.6919\n",
            "Epoch 73/160\n",
            "118/118 [==============================] - 1s 5ms/step - loss: 1.1176 - accuracy: 0.6955\n",
            "Epoch 74/160\n",
            "118/118 [==============================] - 1s 5ms/step - loss: 1.1078 - accuracy: 0.6987\n",
            "Epoch 75/160\n",
            "118/118 [==============================] - 1s 5ms/step - loss: 1.0982 - accuracy: 0.7028\n",
            "Epoch 76/160\n",
            "118/118 [==============================] - 1s 5ms/step - loss: 1.0889 - accuracy: 0.7052\n",
            "Epoch 77/160\n",
            "118/118 [==============================] - 1s 5ms/step - loss: 1.0797 - accuracy: 0.7085\n",
            "Epoch 78/160\n",
            "118/118 [==============================] - 1s 5ms/step - loss: 1.0707 - accuracy: 0.7112\n",
            "Epoch 79/160\n",
            "118/118 [==============================] - 1s 5ms/step - loss: 1.0619 - accuracy: 0.7140\n",
            "Epoch 80/160\n",
            "118/118 [==============================] - 1s 5ms/step - loss: 1.0533 - accuracy: 0.7176\n",
            "Epoch 81/160\n",
            "118/118 [==============================] - 1s 6ms/step - loss: 1.0448 - accuracy: 0.7194\n",
            "Epoch 82/160\n",
            "118/118 [==============================] - 1s 8ms/step - loss: 1.0365 - accuracy: 0.7223\n",
            "Epoch 83/160\n",
            "118/118 [==============================] - 1s 8ms/step - loss: 1.0283 - accuracy: 0.7250\n",
            "Epoch 84/160\n",
            "118/118 [==============================] - 1s 8ms/step - loss: 1.0203 - accuracy: 0.7274\n",
            "Epoch 85/160\n",
            "118/118 [==============================] - 1s 8ms/step - loss: 1.0125 - accuracy: 0.7302\n",
            "Epoch 86/160\n",
            "118/118 [==============================] - 1s 8ms/step - loss: 1.0047 - accuracy: 0.7324\n",
            "Epoch 87/160\n",
            "118/118 [==============================] - 1s 6ms/step - loss: 0.9971 - accuracy: 0.7352\n",
            "Epoch 88/160\n",
            "118/118 [==============================] - 1s 6ms/step - loss: 0.9896 - accuracy: 0.7376\n",
            "Epoch 89/160\n",
            "118/118 [==============================] - 1s 6ms/step - loss: 0.9823 - accuracy: 0.7398\n",
            "Epoch 90/160\n",
            "118/118 [==============================] - 1s 5ms/step - loss: 0.9751 - accuracy: 0.7429\n",
            "Epoch 91/160\n",
            "118/118 [==============================] - 1s 5ms/step - loss: 0.9680 - accuracy: 0.7461\n",
            "Epoch 92/160\n",
            "118/118 [==============================] - 1s 5ms/step - loss: 0.9610 - accuracy: 0.7471\n",
            "Epoch 93/160\n",
            "118/118 [==============================] - 1s 5ms/step - loss: 0.9541 - accuracy: 0.7497\n",
            "Epoch 94/160\n",
            "118/118 [==============================] - 1s 5ms/step - loss: 0.9473 - accuracy: 0.7527\n",
            "Epoch 95/160\n",
            "118/118 [==============================] - 1s 5ms/step - loss: 0.9406 - accuracy: 0.7553\n",
            "Epoch 96/160\n",
            "118/118 [==============================] - 1s 5ms/step - loss: 0.9341 - accuracy: 0.7577\n",
            "Epoch 97/160\n",
            "118/118 [==============================] - 1s 5ms/step - loss: 0.9276 - accuracy: 0.7600\n",
            "Epoch 98/160\n",
            "118/118 [==============================] - 1s 5ms/step - loss: 0.9212 - accuracy: 0.7624\n",
            "Epoch 99/160\n",
            "118/118 [==============================] - 1s 5ms/step - loss: 0.9149 - accuracy: 0.7642\n",
            "Epoch 100/160\n",
            "118/118 [==============================] - 1s 5ms/step - loss: 0.9087 - accuracy: 0.7662\n",
            "Epoch 101/160\n",
            "118/118 [==============================] - 1s 5ms/step - loss: 0.9026 - accuracy: 0.7684\n",
            "Epoch 102/160\n",
            "118/118 [==============================] - 1s 5ms/step - loss: 0.8966 - accuracy: 0.7710\n",
            "Epoch 103/160\n",
            "118/118 [==============================] - 1s 6ms/step - loss: 0.8906 - accuracy: 0.7729\n",
            "Epoch 104/160\n",
            "118/118 [==============================] - 1s 7ms/step - loss: 0.8848 - accuracy: 0.7752\n",
            "Epoch 105/160\n",
            "118/118 [==============================] - 1s 8ms/step - loss: 0.8790 - accuracy: 0.7769\n",
            "Epoch 106/160\n",
            "118/118 [==============================] - 1s 9ms/step - loss: 0.8733 - accuracy: 0.7786\n",
            "Epoch 107/160\n",
            "118/118 [==============================] - 1s 8ms/step - loss: 0.8676 - accuracy: 0.7804\n",
            "Epoch 108/160\n",
            "118/118 [==============================] - 1s 7ms/step - loss: 0.8621 - accuracy: 0.7823\n",
            "Epoch 109/160\n",
            "118/118 [==============================] - 1s 5ms/step - loss: 0.8566 - accuracy: 0.7840\n",
            "Epoch 110/160\n",
            "118/118 [==============================] - 1s 5ms/step - loss: 0.8512 - accuracy: 0.7857\n",
            "Epoch 111/160\n",
            "118/118 [==============================] - 1s 5ms/step - loss: 0.8459 - accuracy: 0.7877\n",
            "Epoch 112/160\n",
            "118/118 [==============================] - 1s 5ms/step - loss: 0.8406 - accuracy: 0.7893\n",
            "Epoch 113/160\n",
            "118/118 [==============================] - 1s 5ms/step - loss: 0.8354 - accuracy: 0.7908\n",
            "Epoch 114/160\n",
            "118/118 [==============================] - 1s 5ms/step - loss: 0.8303 - accuracy: 0.7923\n",
            "Epoch 115/160\n",
            "118/118 [==============================] - 1s 5ms/step - loss: 0.8252 - accuracy: 0.7943\n",
            "Epoch 116/160\n",
            "118/118 [==============================] - 1s 5ms/step - loss: 0.8202 - accuracy: 0.7952\n",
            "Epoch 117/160\n",
            "118/118 [==============================] - 1s 5ms/step - loss: 0.8153 - accuracy: 0.7968\n",
            "Epoch 118/160\n",
            "118/118 [==============================] - 1s 5ms/step - loss: 0.8104 - accuracy: 0.7985\n",
            "Epoch 119/160\n",
            "118/118 [==============================] - 1s 5ms/step - loss: 0.8056 - accuracy: 0.7995\n",
            "Epoch 120/160\n",
            "118/118 [==============================] - 1s 5ms/step - loss: 0.8008 - accuracy: 0.8011\n",
            "Epoch 121/160\n",
            "118/118 [==============================] - 1s 5ms/step - loss: 0.7961 - accuracy: 0.8029\n",
            "Epoch 122/160\n",
            "118/118 [==============================] - 1s 5ms/step - loss: 0.7914 - accuracy: 0.8044\n",
            "Epoch 123/160\n",
            "118/118 [==============================] - 1s 5ms/step - loss: 0.7868 - accuracy: 0.8062\n",
            "Epoch 124/160\n",
            "118/118 [==============================] - 1s 5ms/step - loss: 0.7823 - accuracy: 0.8074\n",
            "Epoch 125/160\n",
            "118/118 [==============================] - 1s 6ms/step - loss: 0.7778 - accuracy: 0.8084\n",
            "Epoch 126/160\n",
            "118/118 [==============================] - 1s 7ms/step - loss: 0.7733 - accuracy: 0.8097\n",
            "Epoch 127/160\n",
            "118/118 [==============================] - 1s 8ms/step - loss: 0.7689 - accuracy: 0.8113\n",
            "Epoch 128/160\n",
            "118/118 [==============================] - 1s 7ms/step - loss: 0.7646 - accuracy: 0.8126\n",
            "Epoch 129/160\n",
            "118/118 [==============================] - 1s 7ms/step - loss: 0.7603 - accuracy: 0.8136\n",
            "Epoch 130/160\n",
            "118/118 [==============================] - 1s 8ms/step - loss: 0.7561 - accuracy: 0.8146\n",
            "Epoch 131/160\n",
            "118/118 [==============================] - 1s 6ms/step - loss: 0.7519 - accuracy: 0.8159\n",
            "Epoch 132/160\n",
            "118/118 [==============================] - 1s 5ms/step - loss: 0.7477 - accuracy: 0.8167\n",
            "Epoch 133/160\n",
            "118/118 [==============================] - 1s 5ms/step - loss: 0.7436 - accuracy: 0.8181\n",
            "Epoch 134/160\n",
            "118/118 [==============================] - 1s 5ms/step - loss: 0.7396 - accuracy: 0.8193\n",
            "Epoch 135/160\n",
            "118/118 [==============================] - 1s 5ms/step - loss: 0.7355 - accuracy: 0.8202\n",
            "Epoch 136/160\n",
            "118/118 [==============================] - 1s 5ms/step - loss: 0.7316 - accuracy: 0.8212\n",
            "Epoch 137/160\n",
            "118/118 [==============================] - 1s 5ms/step - loss: 0.7277 - accuracy: 0.8224\n",
            "Epoch 138/160\n",
            "118/118 [==============================] - 1s 5ms/step - loss: 0.7238 - accuracy: 0.8234\n",
            "Epoch 139/160\n",
            "118/118 [==============================] - 1s 5ms/step - loss: 0.7199 - accuracy: 0.8245\n",
            "Epoch 140/160\n",
            "118/118 [==============================] - 1s 5ms/step - loss: 0.7161 - accuracy: 0.8254\n",
            "Epoch 141/160\n",
            "118/118 [==============================] - 1s 5ms/step - loss: 0.7124 - accuracy: 0.8263\n",
            "Epoch 142/160\n",
            "118/118 [==============================] - 1s 5ms/step - loss: 0.7087 - accuracy: 0.8276\n",
            "Epoch 143/160\n",
            "118/118 [==============================] - 1s 5ms/step - loss: 0.7050 - accuracy: 0.8285\n",
            "Epoch 144/160\n",
            "118/118 [==============================] - 1s 5ms/step - loss: 0.7013 - accuracy: 0.8296\n",
            "Epoch 145/160\n",
            "118/118 [==============================] - 1s 5ms/step - loss: 0.6977 - accuracy: 0.8306\n",
            "Epoch 146/160\n",
            "118/118 [==============================] - 1s 5ms/step - loss: 0.6942 - accuracy: 0.8315\n",
            "Epoch 147/160\n",
            "118/118 [==============================] - 1s 5ms/step - loss: 0.6906 - accuracy: 0.8327\n",
            "Epoch 148/160\n",
            "118/118 [==============================] - 1s 8ms/step - loss: 0.6871 - accuracy: 0.8336\n",
            "Epoch 149/160\n",
            "118/118 [==============================] - 1s 7ms/step - loss: 0.6837 - accuracy: 0.8346\n",
            "Epoch 150/160\n",
            "118/118 [==============================] - 1s 7ms/step - loss: 0.6803 - accuracy: 0.8356\n",
            "Epoch 151/160\n",
            "118/118 [==============================] - 1s 7ms/step - loss: 0.6769 - accuracy: 0.8369\n",
            "Epoch 152/160\n",
            "118/118 [==============================] - 1s 8ms/step - loss: 0.6735 - accuracy: 0.8377\n",
            "Epoch 153/160\n",
            "118/118 [==============================] - 1s 7ms/step - loss: 0.6702 - accuracy: 0.8386\n",
            "Epoch 154/160\n",
            "118/118 [==============================] - 1s 5ms/step - loss: 0.6669 - accuracy: 0.8393\n",
            "Epoch 155/160\n",
            "118/118 [==============================] - 1s 5ms/step - loss: 0.6637 - accuracy: 0.8402\n",
            "Epoch 156/160\n",
            "118/118 [==============================] - 1s 5ms/step - loss: 0.6605 - accuracy: 0.8412\n",
            "Epoch 157/160\n",
            "118/118 [==============================] - 1s 5ms/step - loss: 0.6573 - accuracy: 0.8419\n",
            "Epoch 158/160\n",
            "118/118 [==============================] - 1s 5ms/step - loss: 0.6542 - accuracy: 0.8426\n",
            "Epoch 159/160\n",
            "118/118 [==============================] - 1s 5ms/step - loss: 0.6510 - accuracy: 0.8436\n",
            "Epoch 160/160\n",
            "118/118 [==============================] - 1s 5ms/step - loss: 0.6480 - accuracy: 0.8443\n"
          ]
        },
        {
          "output_type": "execute_result",
          "data": {
            "text/plain": [
              "<keras.callbacks.History at 0x7f1fdf0e32b0>"
            ]
          },
          "metadata": {},
          "execution_count": 9
        }
      ]
    },
    {
      "cell_type": "code",
      "source": [
        "test_loss, test_acc = network.evaluate(test_images, test_labels)\n",
        "print('Test Accuracy: {:.5f} '.format(test_acc))\n",
        "test_acc"
      ],
      "metadata": {
        "colab": {
          "base_uri": "https://localhost:8080/"
        },
        "id": "lxgwEbxmozey",
        "outputId": "d65ec6d1-ae27-4a48-988b-a9dbab276a6d"
      },
      "execution_count": null,
      "outputs": [
        {
          "output_type": "stream",
          "name": "stdout",
          "text": [
            "313/313 [==============================] - 1s 2ms/step - loss: 0.6375 - accuracy: 0.8500\n",
            "Test Accuracy: 0.85000 \n"
          ]
        },
        {
          "output_type": "execute_result",
          "data": {
            "text/plain": [
              "0.8500000238418579"
            ]
          },
          "metadata": {},
          "execution_count": 10
        }
      ]
    },
    {
      "cell_type": "code",
      "source": [
        "from keras.utils import plot_model\n",
        "plot_model(network, to_file='model.png')\n",
        "import matplotlib.pyplot as plt\n",
        "history =network.fit(train_images, train_labels, validation_split=0.33,epochs=5, batch_size=512)\n",
        "history_dict = history.history\n",
        "print(history_dict.keys())\n",
        "plt.plot(history.history['accuracy'])\n",
        "plt.plot(history.history['val_accuracy'])\n",
        "plt.title('Model accuracy')\n",
        "plt.ylabel('Accuracy')\n",
        "plt.xlabel('Epoch')\n",
        "plt.legend(['Train', 'Test'], loc='upper left')\n",
        "plt.show()\n",
        "\n",
        "\n",
        "# Plot training & validation loss values\n",
        "plt.plot(history.history['loss'])\n",
        "plt.plot(history.history['val_loss'])\n",
        "plt.title('Model loss')\n",
        "plt.ylabel('Loss')\n",
        "plt.xlabel('Epoch')\n",
        "plt.legend(['Train', 'Test'], loc='upper left')\n",
        "plt.show()\n"
      ],
      "metadata": {
        "colab": {
          "base_uri": "https://localhost:8080/",
          "height": 764
        },
        "id": "3vpftWmpo195",
        "outputId": "76ec1134-d206-43bf-fbf0-d95451878b2d"
      },
      "execution_count": null,
      "outputs": [
        {
          "output_type": "stream",
          "name": "stdout",
          "text": [
            "Epoch 1/5\n",
            "79/79 [==============================] - 1s 14ms/step - loss: 0.6502 - accuracy: 0.8433 - val_loss: 0.6347 - val_accuracy: 0.8493\n",
            "Epoch 2/5\n",
            "79/79 [==============================] - 1s 10ms/step - loss: 0.6481 - accuracy: 0.8439 - val_loss: 0.6327 - val_accuracy: 0.8499\n",
            "Epoch 3/5\n",
            "79/79 [==============================] - 1s 7ms/step - loss: 0.6460 - accuracy: 0.8445 - val_loss: 0.6308 - val_accuracy: 0.8501\n",
            "Epoch 4/5\n",
            "79/79 [==============================] - 1s 7ms/step - loss: 0.6440 - accuracy: 0.8451 - val_loss: 0.6289 - val_accuracy: 0.8506\n",
            "Epoch 5/5\n",
            "79/79 [==============================] - 1s 7ms/step - loss: 0.6420 - accuracy: 0.8457 - val_loss: 0.6270 - val_accuracy: 0.8511\n",
            "dict_keys(['loss', 'accuracy', 'val_loss', 'val_accuracy'])\n"
          ]
        },
        {
          "output_type": "display_data",
          "data": {
            "text/plain": [
              "<Figure size 432x288 with 1 Axes>"
            ],
            "image/png": "[encoded data removed]"
          },
          "metadata": {
            "needs_background": "light"
          }
        },
        {
          "output_type": "display_data",
          "data": {
            "text/plain": [
              "<Figure size 432x288 with 1 Axes>"
            ],
            "image/png": "[encoded data removed]"
          },
          "metadata": {
            "needs_background": "light"
          }
        }
      ]
    }
  ]
}